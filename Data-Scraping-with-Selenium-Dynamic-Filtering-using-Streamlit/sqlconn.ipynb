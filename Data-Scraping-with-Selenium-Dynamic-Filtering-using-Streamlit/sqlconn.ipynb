{
 "cells": [
  {
   "cell_type": "code",
   "execution_count": 1,
   "metadata": {},
   "outputs": [],
   "source": [
    "#importing libraries\n",
    "import pandas as pd\n",
    "import mysql.connector\n",
    "import numpy as np"
   ]
  },
  {
   "cell_type": "code",
   "execution_count": 2,
   "metadata": {},
   "outputs": [
    {
     "data": {
      "text/html": [
       "<div>\n",
       "<style scoped>\n",
       "    .dataframe tbody tr th:only-of-type {\n",
       "        vertical-align: middle;\n",
       "    }\n",
       "\n",
       "    .dataframe tbody tr th {\n",
       "        vertical-align: top;\n",
       "    }\n",
       "\n",
       "    .dataframe thead th {\n",
       "        text-align: right;\n",
       "    }\n",
       "</style>\n",
       "<table border=\"1\" class=\"dataframe\">\n",
       "  <thead>\n",
       "    <tr style=\"text-align: right;\">\n",
       "      <th></th>\n",
       "      <th>Bus_name</th>\n",
       "      <th>Bus_type</th>\n",
       "      <th>Start_time</th>\n",
       "      <th>End_time</th>\n",
       "      <th>Total_duration</th>\n",
       "      <th>Price</th>\n",
       "      <th>Seats_Available</th>\n",
       "      <th>Ratings</th>\n",
       "      <th>Route_link</th>\n",
       "      <th>Route_name</th>\n",
       "    </tr>\n",
       "  </thead>\n",
       "  <tbody>\n",
       "    <tr>\n",
       "      <th>0</th>\n",
       "      <td>KSRTC (Kerala) - 581</td>\n",
       "      <td>Super Express Non AC Seater Air Bus (2+2)</td>\n",
       "      <td>10:03</td>\n",
       "      <td>18:48</td>\n",
       "      <td>08h 45m</td>\n",
       "      <td>INR 469</td>\n",
       "      <td>8 Seats available</td>\n",
       "      <td>3.9\\n72</td>\n",
       "      <td>https://www.redbus.in/bus-tickets/bangalore-to...</td>\n",
       "      <td>Bangalore to Kozhikode</td>\n",
       "    </tr>\n",
       "    <tr>\n",
       "      <th>1</th>\n",
       "      <td>KSRTC (Kerala) - 52</td>\n",
       "      <td>SWIFT-GARUDA A/C SEATER BUS</td>\n",
       "      <td>12:01</td>\n",
       "      <td>19:55</td>\n",
       "      <td>07h 54m</td>\n",
       "      <td>INR 627</td>\n",
       "      <td>18 Seats available</td>\n",
       "      <td>3.6\\n96</td>\n",
       "      <td>https://www.redbus.in/bus-tickets/bangalore-to...</td>\n",
       "      <td>Bangalore to Kozhikode</td>\n",
       "    </tr>\n",
       "    <tr>\n",
       "      <th>2</th>\n",
       "      <td>KSRTC (Kerala) - 1378</td>\n",
       "      <td>AC MULTI AXLE</td>\n",
       "      <td>13:46</td>\n",
       "      <td>20:50</td>\n",
       "      <td>07h 04m</td>\n",
       "      <td>INR 729</td>\n",
       "      <td>18 Seats available</td>\n",
       "      <td>2.6\\n22</td>\n",
       "      <td>https://www.redbus.in/bus-tickets/bangalore-to...</td>\n",
       "      <td>Bangalore to Kozhikode</td>\n",
       "    </tr>\n",
       "    <tr>\n",
       "      <th>3</th>\n",
       "      <td>KSRTC (Kerala) - 129</td>\n",
       "      <td>SWIFT-GARUDA A/C SEATER BUS</td>\n",
       "      <td>14:15</td>\n",
       "      <td>22:50</td>\n",
       "      <td>08h 35m</td>\n",
       "      <td>INR 627</td>\n",
       "      <td>21 Seats available</td>\n",
       "      <td>4.2\\n69</td>\n",
       "      <td>https://www.redbus.in/bus-tickets/bangalore-to...</td>\n",
       "      <td>Bangalore to Kozhikode</td>\n",
       "    </tr>\n",
       "    <tr>\n",
       "      <th>4</th>\n",
       "      <td>KSRTC (Kerala) - 235</td>\n",
       "      <td>Swift Deluxe Non AC Air Bus (2+2)</td>\n",
       "      <td>15:00</td>\n",
       "      <td>00:01</td>\n",
       "      <td>09h 01m</td>\n",
       "      <td>INR 620</td>\n",
       "      <td>27 Seats available</td>\n",
       "      <td>4.3\\n9</td>\n",
       "      <td>https://www.redbus.in/bus-tickets/bangalore-to...</td>\n",
       "      <td>Bangalore to Kozhikode</td>\n",
       "    </tr>\n",
       "    <tr>\n",
       "      <th>...</th>\n",
       "      <td>...</td>\n",
       "      <td>...</td>\n",
       "      <td>...</td>\n",
       "      <td>...</td>\n",
       "      <td>...</td>\n",
       "      <td>...</td>\n",
       "      <td>...</td>\n",
       "      <td>...</td>\n",
       "      <td>...</td>\n",
       "      <td>...</td>\n",
       "    </tr>\n",
       "    <tr>\n",
       "      <th>3351</th>\n",
       "      <td>Shyamoli Paribahan Pvt Ltd</td>\n",
       "      <td>Scania Multi-Axle AC Semi Sleeper (2+2)</td>\n",
       "      <td>13:00</td>\n",
       "      <td>18:00</td>\n",
       "      <td>05h 00m</td>\n",
       "      <td>INR 524</td>\n",
       "      <td>45 Seats available</td>\n",
       "      <td>3.7\\n51</td>\n",
       "      <td>https://www.redbus.in/bus-tickets/kolkata-to-a...</td>\n",
       "      <td>Kolkata to Asansol (West Bengal)</td>\n",
       "    </tr>\n",
       "    <tr>\n",
       "      <th>3352</th>\n",
       "      <td>Express Line</td>\n",
       "      <td>Volvo A/C Seater (2+2)</td>\n",
       "      <td>13:30</td>\n",
       "      <td>18:30</td>\n",
       "      <td>05h 00m</td>\n",
       "      <td>INR 524</td>\n",
       "      <td>44 Seats available</td>\n",
       "      <td>4.8\\n83</td>\n",
       "      <td>https://www.redbus.in/bus-tickets/kolkata-to-a...</td>\n",
       "      <td>Kolkata to Asansol (West Bengal)</td>\n",
       "    </tr>\n",
       "    <tr>\n",
       "      <th>3353</th>\n",
       "      <td>SHYAMOLI Pvt. Ltd.(Karunamoyee)</td>\n",
       "      <td>Volvo B11R Multi Axle Seater (2+2)</td>\n",
       "      <td>14:00</td>\n",
       "      <td>19:00</td>\n",
       "      <td>05h 00m</td>\n",
       "      <td>INR 524</td>\n",
       "      <td>19 Seats available</td>\n",
       "      <td>4.1\\n195</td>\n",
       "      <td>https://www.redbus.in/bus-tickets/kolkata-to-a...</td>\n",
       "      <td>Kolkata to Asansol (West Bengal)</td>\n",
       "    </tr>\n",
       "    <tr>\n",
       "      <th>3354</th>\n",
       "      <td>WBTC (CTC) HABRA-DIGHA via Bally - 26|12:45</td>\n",
       "      <td>Non AC Seater (2+3)</td>\n",
       "      <td>12:45</td>\n",
       "      <td>15:40</td>\n",
       "      <td>02h 55m</td>\n",
       "      <td>INR 87</td>\n",
       "      <td>49 Seats available</td>\n",
       "      <td>3.8</td>\n",
       "      <td>https://www.redbus.in/bus-tickets/habra-to-kol...</td>\n",
       "      <td>Habra to Kolaghat</td>\n",
       "    </tr>\n",
       "    <tr>\n",
       "      <th>3355</th>\n",
       "      <td>WBTC (CTC) HABRA-DIGHA via Bally - 26|12:45</td>\n",
       "      <td>Non AC Seater (2+3)</td>\n",
       "      <td>12:45</td>\n",
       "      <td>17:10</td>\n",
       "      <td>04h 25m</td>\n",
       "      <td>INR 149</td>\n",
       "      <td>49 Seats available</td>\n",
       "      <td>3.5</td>\n",
       "      <td>https://www.redbus.in/bus-tickets/habra-to-con...</td>\n",
       "      <td>Habra to Contai (Kanthi)</td>\n",
       "    </tr>\n",
       "  </tbody>\n",
       "</table>\n",
       "<p>3356 rows × 10 columns</p>\n",
       "</div>"
      ],
      "text/plain": [
       "                                         Bus_name  \\\n",
       "0                            KSRTC (Kerala) - 581   \n",
       "1                             KSRTC (Kerala) - 52   \n",
       "2                           KSRTC (Kerala) - 1378   \n",
       "3                            KSRTC (Kerala) - 129   \n",
       "4                            KSRTC (Kerala) - 235   \n",
       "...                                           ...   \n",
       "3351                   Shyamoli Paribahan Pvt Ltd   \n",
       "3352                                 Express Line   \n",
       "3353              SHYAMOLI Pvt. Ltd.(Karunamoyee)   \n",
       "3354  WBTC (CTC) HABRA-DIGHA via Bally - 26|12:45   \n",
       "3355  WBTC (CTC) HABRA-DIGHA via Bally - 26|12:45   \n",
       "\n",
       "                                       Bus_type Start_time End_time  \\\n",
       "0     Super Express Non AC Seater Air Bus (2+2)      10:03    18:48   \n",
       "1                   SWIFT-GARUDA A/C SEATER BUS      12:01    19:55   \n",
       "2                                 AC MULTI AXLE      13:46    20:50   \n",
       "3                   SWIFT-GARUDA A/C SEATER BUS      14:15    22:50   \n",
       "4             Swift Deluxe Non AC Air Bus (2+2)      15:00    00:01   \n",
       "...                                         ...        ...      ...   \n",
       "3351    Scania Multi-Axle AC Semi Sleeper (2+2)      13:00    18:00   \n",
       "3352                     Volvo A/C Seater (2+2)      13:30    18:30   \n",
       "3353         Volvo B11R Multi Axle Seater (2+2)      14:00    19:00   \n",
       "3354                        Non AC Seater (2+3)      12:45    15:40   \n",
       "3355                        Non AC Seater (2+3)      12:45    17:10   \n",
       "\n",
       "     Total_duration    Price     Seats_Available   Ratings  \\\n",
       "0           08h 45m  INR 469   8 Seats available   3.9\\n72   \n",
       "1           07h 54m  INR 627  18 Seats available   3.6\\n96   \n",
       "2           07h 04m  INR 729  18 Seats available   2.6\\n22   \n",
       "3           08h 35m  INR 627  21 Seats available   4.2\\n69   \n",
       "4           09h 01m  INR 620  27 Seats available    4.3\\n9   \n",
       "...             ...      ...                 ...       ...   \n",
       "3351        05h 00m  INR 524  45 Seats available   3.7\\n51   \n",
       "3352        05h 00m  INR 524  44 Seats available   4.8\\n83   \n",
       "3353        05h 00m  INR 524  19 Seats available  4.1\\n195   \n",
       "3354        02h 55m   INR 87  49 Seats available       3.8   \n",
       "3355        04h 25m  INR 149  49 Seats available       3.5   \n",
       "\n",
       "                                             Route_link  \\\n",
       "0     https://www.redbus.in/bus-tickets/bangalore-to...   \n",
       "1     https://www.redbus.in/bus-tickets/bangalore-to...   \n",
       "2     https://www.redbus.in/bus-tickets/bangalore-to...   \n",
       "3     https://www.redbus.in/bus-tickets/bangalore-to...   \n",
       "4     https://www.redbus.in/bus-tickets/bangalore-to...   \n",
       "...                                                 ...   \n",
       "3351  https://www.redbus.in/bus-tickets/kolkata-to-a...   \n",
       "3352  https://www.redbus.in/bus-tickets/kolkata-to-a...   \n",
       "3353  https://www.redbus.in/bus-tickets/kolkata-to-a...   \n",
       "3354  https://www.redbus.in/bus-tickets/habra-to-kol...   \n",
       "3355  https://www.redbus.in/bus-tickets/habra-to-con...   \n",
       "\n",
       "                            Route_name  \n",
       "0               Bangalore to Kozhikode  \n",
       "1               Bangalore to Kozhikode  \n",
       "2               Bangalore to Kozhikode  \n",
       "3               Bangalore to Kozhikode  \n",
       "4               Bangalore to Kozhikode  \n",
       "...                                ...  \n",
       "3351  Kolkata to Asansol (West Bengal)  \n",
       "3352  Kolkata to Asansol (West Bengal)  \n",
       "3353  Kolkata to Asansol (West Bengal)  \n",
       "3354                 Habra to Kolaghat  \n",
       "3355          Habra to Contai (Kanthi)  \n",
       "\n",
       "[3356 rows x 10 columns]"
      ]
     },
     "execution_count": 2,
     "metadata": {},
     "output_type": "execute_result"
    }
   ],
   "source": [
    "# csv to dataframe\n",
    "df_buses_1=pd.read_csv(r\"C:\\Users\\admin\\OneDrive\\Desktop\\Redbus1\\Data-Scraping-with-Selenium-Dynamic-Filtering-using-Streamlit\\CSV buses\\df_buses_1.csv\")\n",
    "df_buses_2=pd.read_csv(r\"C:\\Users\\admin\\OneDrive\\Desktop\\Redbus1\\Data-Scraping-with-Selenium-Dynamic-Filtering-using-Streamlit\\CSV buses\\df_buses_2.csv\")\n",
    "df_buses_3=pd.read_csv(r\"C:\\Users\\admin\\OneDrive\\Desktop\\Redbus1\\Data-Scraping-with-Selenium-Dynamic-Filtering-using-Streamlit\\CSV buses\\df_buses_3.csv\")\n",
    "df_buses_4=pd.read_csv(r\"C:\\Users\\admin\\OneDrive\\Desktop\\Redbus1\\Data-Scraping-with-Selenium-Dynamic-Filtering-using-Streamlit\\CSV buses\\df_buses_4.csv\")\n",
    "df_buses_5=pd.read_csv(r\"C:\\Users\\admin\\OneDrive\\Desktop\\Redbus1\\Data-Scraping-with-Selenium-Dynamic-Filtering-using-Streamlit\\CSV buses\\df_buses_5.csv\")\n",
    "df_buses_6=pd.read_csv(r\"C:\\Users\\admin\\OneDrive\\Desktop\\Redbus1\\Data-Scraping-with-Selenium-Dynamic-Filtering-using-Streamlit\\CSV buses\\df_buses_6.csv\")\n",
    "df_buses_7=pd.read_csv(r\"C:\\Users\\admin\\OneDrive\\Desktop\\Redbus1\\Data-Scraping-with-Selenium-Dynamic-Filtering-using-Streamlit\\CSV buses\\df_buses_7.csv\")\n",
    "df_buses_8=pd.read_csv(r\"C:\\Users\\admin\\OneDrive\\Desktop\\Redbus1\\Data-Scraping-with-Selenium-Dynamic-Filtering-using-Streamlit\\CSV buses\\df_buses_8.csv\")\n",
    "df_buses_9=pd.read_csv(r\"C:\\Users\\admin\\OneDrive\\Desktop\\Redbus1\\Data-Scraping-with-Selenium-Dynamic-Filtering-using-Streamlit\\CSV buses\\df_buses_9.csv\")\n",
    "df_buses_10=pd.read_csv(r\"C:\\Users\\admin\\OneDrive\\Desktop\\Redbus1\\Data-Scraping-with-Selenium-Dynamic-Filtering-using-Streamlit\\CSV buses\\df_buses_10.csv\")\n",
    "\n",
    "Final_df=pd.concat([df_buses_1,df_buses_2,df_buses_3,df_buses_4,df_buses_5,df_buses_6,\n",
    "                    df_buses_7,df_buses_8,df_buses_9,df_buses_10],ignore_index=True)\n",
    "Final_df"
   ]
  },
  {
   "cell_type": "markdown",
   "metadata": {},
   "source": [
    "# Data cleaning"
   ]
  },
  {
   "cell_type": "code",
   "execution_count": 3,
   "metadata": {},
   "outputs": [
    {
     "name": "stdout",
     "output_type": "stream",
     "text": [
      "<class 'pandas.core.frame.DataFrame'>\n",
      "RangeIndex: 3356 entries, 0 to 3355\n",
      "Data columns (total 10 columns):\n",
      " #   Column           Non-Null Count  Dtype \n",
      "---  ------           --------------  ----- \n",
      " 0   Bus_name         3356 non-null   object\n",
      " 1   Bus_type         3356 non-null   object\n",
      " 2   Start_time       3356 non-null   object\n",
      " 3   End_time         3356 non-null   object\n",
      " 4   Total_duration   3356 non-null   object\n",
      " 5   Price            3356 non-null   object\n",
      " 6   Seats_Available  3356 non-null   object\n",
      " 7   Ratings          3356 non-null   object\n",
      " 8   Route_link       3356 non-null   object\n",
      " 9   Route_name       3356 non-null   object\n",
      "dtypes: object(10)\n",
      "memory usage: 262.3+ KB\n"
     ]
    }
   ],
   "source": [
    "# data about the data\n",
    "Final_df.info()"
   ]
  },
  {
   "cell_type": "code",
   "execution_count": 4,
   "metadata": {},
   "outputs": [
    {
     "data": {
      "text/plain": [
       "0       469.0\n",
       "1       627.0\n",
       "2       729.0\n",
       "3       627.0\n",
       "4       620.0\n",
       "        ...  \n",
       "3351    524.0\n",
       "3352    524.0\n",
       "3353    524.0\n",
       "3354     87.0\n",
       "3355    149.0\n",
       "Name: Price, Length: 3356, dtype: float64"
      ]
     },
     "execution_count": 4,
     "metadata": {},
     "output_type": "execute_result"
    }
   ],
   "source": [
    "#convert prices to numeric\n",
    "Final_df[\"Price\"]=Final_df[\"Price\"].str.replace(\"INR\",\"\")\n",
    "Final_df[\"Price\"]=Final_df[\"Price\"].astype(float)\n",
    "Final_df[\"Price\"].fillna(0) \n"
   ]
  },
  {
   "cell_type": "code",
   "execution_count": 5,
   "metadata": {},
   "outputs": [
    {
     "name": "stderr",
     "output_type": "stream",
     "text": [
      "C:\\Users\\admin\\AppData\\Local\\Temp\\ipykernel_20980\\2577861265.py:6: FutureWarning: A value is trying to be set on a copy of a DataFrame or Series through chained assignment using an inplace method.\n",
      "The behavior will change in pandas 3.0. This inplace method will never work because the intermediate object on which we are setting values always behaves as a copy.\n",
      "\n",
      "For example, when doing 'df[col].method(value, inplace=True)', try using 'df.method({col: value}, inplace=True)' or df[col] = df[col].method(value) instead, to perform the operation inplace on the original object.\n",
      "\n",
      "\n",
      "  Final_df[\"Ratings\"].fillna(0,inplace=True)\n"
     ]
    }
   ],
   "source": [
    "#convert Ratings to numeric\n",
    "Final_df[\"Ratings\"]=Final_df[\"Ratings\"].str.replace(\"New\",\"\")\n",
    "Final_df[\"Ratings\"]=Final_df[\"Ratings\"].str.strip()\n",
    "Final_df[\"Ratings\"]=Final_df[\"Ratings\"].str.split().str[0]\n",
    "Final_df[\"Ratings\"] = pd.to_numeric(Final_df[\"Ratings\"], errors='coerce')\n",
    "Final_df[\"Ratings\"].fillna(0,inplace=True) \n"
   ]
  },
  {
   "cell_type": "code",
   "execution_count": 6,
   "metadata": {},
   "outputs": [
    {
     "name": "stdout",
     "output_type": "stream",
     "text": [
      "<class 'pandas.core.frame.DataFrame'>\n",
      "RangeIndex: 3356 entries, 0 to 3355\n",
      "Data columns (total 10 columns):\n",
      " #   Column           Non-Null Count  Dtype  \n",
      "---  ------           --------------  -----  \n",
      " 0   Bus_name         3356 non-null   object \n",
      " 1   Bus_type         3356 non-null   object \n",
      " 2   Start_time       3356 non-null   object \n",
      " 3   End_time         3356 non-null   object \n",
      " 4   Total_duration   3356 non-null   object \n",
      " 5   Price            3356 non-null   float64\n",
      " 6   Seats_Available  3356 non-null   object \n",
      " 7   Ratings          3356 non-null   float64\n",
      " 8   Route_link       3356 non-null   object \n",
      " 9   Route_name       3356 non-null   object \n",
      "dtypes: float64(2), object(8)\n",
      "memory usage: 262.3+ KB\n"
     ]
    }
   ],
   "source": [
    "# info after the data type change\n",
    "Final_df.info()"
   ]
  },
  {
   "cell_type": "code",
   "execution_count": 7,
   "metadata": {},
   "outputs": [],
   "source": [
    "Final_df = Final_df[Final_df[\"Price\"] <= 7000]"
   ]
  },
  {
   "cell_type": "code",
   "execution_count": 8,
   "metadata": {},
   "outputs": [],
   "source": [
    "# replacing the nan value\n",
    "Final_df = Final_df.replace({np.nan: None})"
   ]
  },
  {
   "cell_type": "code",
   "execution_count": 9,
   "metadata": {},
   "outputs": [],
   "source": [
    "# change dataframe to csv\n",
    "path=r\"C:\\Users\\admin\\OneDrive\\Desktop\\Redbus1\\Data-Scraping-with-Selenium-Dynamic-Filtering-using-Streamlit\\Final_all_bussdetails_df.csv\"\n",
    "Final_df.to_csv(path,index=False)"
   ]
  },
  {
   "cell_type": "markdown",
   "metadata": {},
   "source": [
    "# Create a mysql database"
   ]
  },
  {
   "cell_type": "code",
   "execution_count": 10,
   "metadata": {},
   "outputs": [],
   "source": [
    "#sql connection\n",
    "conn=mysql.connector.connect(host=\"localhost\", user=\"root\", password=\"Saivai_22\",database=\"RED_BUS_DETAILS\")\n",
    "my_cursor = conn.cursor()\n",
    "my_cursor.execute(\"CREATE DATABASE IF NOT EXISTS RED_BUS_DETAILS\")"
   ]
  },
  {
   "cell_type": "code",
   "execution_count": 11,
   "metadata": {},
   "outputs": [
    {
     "name": "stdout",
     "output_type": "stream",
     "text": [
      "Table Created successfully\n"
     ]
    }
   ],
   "source": [
    "# Table Creation\n",
    "my_cursor.execute('''CREATE TABLE IF NOT EXISTS bus_details(\n",
    "                  ID INT AUTO_INCREMENT PRIMARY KEY,\n",
    "                  Bus_name VARCHAR(255) NOT NULL,\n",
    "                  Bus_type VARCHAR(255) NOT NULL,\n",
    "                  Start_time VARCHAR(255) NOT NULL,\n",
    "                  End_time VARCHAR(255) NOT NULL,\n",
    "                  Total_duration VARCHAR(255) NOT NULL,\n",
    "                  Price FLOAT NULL,\n",
    "                  Seats_Available VARCHAR(255) NOT NULL,\n",
    "                  Ratings Float NULL,\n",
    "                  Route_link VARCHAR(255) NULL,\n",
    "                  Route_name VARCHAR(255) NULL\n",
    "                  )''')\n",
    "print(\"Table Created successfully\")"
   ]
  },
  {
   "cell_type": "code",
   "execution_count": 12,
   "metadata": {},
   "outputs": [
    {
     "name": "stdout",
     "output_type": "stream",
     "text": [
      "Values inserted successfully\n"
     ]
    }
   ],
   "source": [
    "# SQL query to insert data into bus_details table\n",
    "insert_query = '''INSERT INTO bus_details(\n",
    "                    Bus_name,\n",
    "                    Bus_type,\n",
    "                    Start_time,\n",
    "                    End_time,\n",
    "                    Total_duration,\n",
    "                    Price,\n",
    "                    Seats_Available,\n",
    "                    Ratings,\n",
    "                    Route_link,\n",
    "                    Route_name)\n",
    "                  VALUES(%s, %s, %s, %s, %s, %s, %s, %s, %s, %s)'''\n",
    "data = Final_df.values.tolist()\n",
    "\n",
    "#executing insert for each row in data list\n",
    "my_cursor.executemany(insert_query, data)\n",
    "\n",
    "conn.commit()\n",
    "\n",
    "print(\"Values inserted successfully\")\n"
   ]
  }
 ],
 "metadata": {
  "kernelspec": {
   "display_name": "Python 3",
   "language": "python",
   "name": "python3"
  },
  "language_info": {
   "codemirror_mode": {
    "name": "ipython",
    "version": 3
   },
   "file_extension": ".py",
   "mimetype": "text/x-python",
   "name": "python",
   "nbconvert_exporter": "python",
   "pygments_lexer": "ipython3",
   "version": "3.12.2"
  }
 },
 "nbformat": 4,
 "nbformat_minor": 2
}
